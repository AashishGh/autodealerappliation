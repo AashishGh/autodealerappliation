{
 "cells": [
  {
   "cell_type": "markdown",
   "id": "f11fcb9a",
   "metadata": {},
   "source": [
    "# Imports"
   ]
  },
  {
   "cell_type": "code",
   "execution_count": 2,
   "id": "9b050f32",
   "metadata": {},
   "outputs": [],
   "source": [
    "import pandas as pd \n",
    "from random import randint\n",
    "from datetime import date, timedelta\n",
    "import random\n",
    "from numpy import NaN"
   ]
  },
  {
   "cell_type": "markdown",
   "id": "52a232d4",
   "metadata": {},
   "source": [
    "### Function for generating random dates "
   ]
  },
  {
   "cell_type": "code",
   "execution_count": 3,
   "id": "3a98eddc",
   "metadata": {},
   "outputs": [],
   "source": [
    "def random_date(start_date: date, end_date: date):\n",
    "    time_between_dates = end_date - start_date\n",
    "    days_between_dates = time_between_dates.days\n",
    "    random_number_of_days = random.randrange(days_between_dates)\n",
    "    return start_date + timedelta(days=random_number_of_days)"
   ]
  },
  {
   "cell_type": "code",
   "execution_count": 540,
   "id": "7b3164e6",
   "metadata": {},
   "outputs": [
    {
     "data": {
      "text/html": [
       "<div>\n",
       "<style scoped>\n",
       "    .dataframe tbody tr th:only-of-type {\n",
       "        vertical-align: middle;\n",
       "    }\n",
       "\n",
       "    .dataframe tbody tr th {\n",
       "        vertical-align: top;\n",
       "    }\n",
       "\n",
       "    .dataframe thead th {\n",
       "        text-align: right;\n",
       "    }\n",
       "</style>\n",
       "<table border=\"1\" class=\"dataframe\">\n",
       "  <thead>\n",
       "    <tr style=\"text-align: right;\">\n",
       "      <th></th>\n",
       "      <th>citizenship number</th>\n",
       "      <th>pan number</th>\n",
       "      <th>full name</th>\n",
       "      <th>date of birth</th>\n",
       "      <th>gender</th>\n",
       "      <th>email</th>\n",
       "      <th>phone</th>\n",
       "      <th>occupation</th>\n",
       "      <th>city</th>\n",
       "      <th>district</th>\n",
       "      <th>state</th>\n",
       "      <th>country</th>\n",
       "      <th>address</th>\n",
       "    </tr>\n",
       "  </thead>\n",
       "  <tbody>\n",
       "    <tr>\n",
       "      <th>0</th>\n",
       "      <td>73537-497-86</td>\n",
       "      <td>76249-52</td>\n",
       "      <td>Jinisha Shrestha</td>\n",
       "      <td>1988-08-18</td>\n",
       "      <td>female</td>\n",
       "      <td>jinishashrestha662@gmail.com</td>\n",
       "      <td>9865094750</td>\n",
       "      <td>pilot</td>\n",
       "      <td>gaurigunj</td>\n",
       "      <td>chitwan</td>\n",
       "      <td>bagmati province</td>\n",
       "      <td>nepal</td>\n",
       "      <td>gaurigunj, chitwan, bagmati province, nepal</td>\n",
       "    </tr>\n",
       "    <tr>\n",
       "      <th>1</th>\n",
       "      <td>97298-891-50</td>\n",
       "      <td>70993-75</td>\n",
       "      <td>Ramsaran Basnet</td>\n",
       "      <td>1994-02-06</td>\n",
       "      <td>male</td>\n",
       "      <td>ramsaranbasnet117@gmail.com</td>\n",
       "      <td>9807133903</td>\n",
       "      <td>journalist</td>\n",
       "      <td>patiyani</td>\n",
       "      <td>chitwan</td>\n",
       "      <td>bagmati province</td>\n",
       "      <td>nepal</td>\n",
       "      <td>patiyani, chitwan, bagmati province, nepal</td>\n",
       "    </tr>\n",
       "    <tr>\n",
       "      <th>2</th>\n",
       "      <td>22950-423-88</td>\n",
       "      <td>91623-53</td>\n",
       "      <td>Sujan Gurung</td>\n",
       "      <td>1994-01-27</td>\n",
       "      <td>male</td>\n",
       "      <td>sujangurung092@gmail.com</td>\n",
       "      <td>9846713843</td>\n",
       "      <td>driver</td>\n",
       "      <td>patiyani</td>\n",
       "      <td>chitwan</td>\n",
       "      <td>bagmati province</td>\n",
       "      <td>nepal</td>\n",
       "      <td>patiyani, chitwan, bagmati province, nepal</td>\n",
       "    </tr>\n",
       "    <tr>\n",
       "      <th>3</th>\n",
       "      <td>10790-729-88</td>\n",
       "      <td>09666-88</td>\n",
       "      <td>Setimaya Tamang</td>\n",
       "      <td>1979-08-21</td>\n",
       "      <td>female</td>\n",
       "      <td>setimayatamang520@gmail.com</td>\n",
       "      <td>9845142417</td>\n",
       "      <td>cook</td>\n",
       "      <td>tadi</td>\n",
       "      <td>chitwan</td>\n",
       "      <td>bagmati province</td>\n",
       "      <td>nepal</td>\n",
       "      <td>tadi, chitwan, bagmati province, nepal</td>\n",
       "    </tr>\n",
       "    <tr>\n",
       "      <th>4</th>\n",
       "      <td>14132-832-40</td>\n",
       "      <td>89567-62</td>\n",
       "      <td>Til Bahadhur Bohara</td>\n",
       "      <td>1980-06-20</td>\n",
       "      <td>male</td>\n",
       "      <td>tilbahadhurbohara468@gmail.com</td>\n",
       "      <td>9857042059</td>\n",
       "      <td>secretary</td>\n",
       "      <td>gaurigunj</td>\n",
       "      <td>chitwan</td>\n",
       "      <td>bagmati province</td>\n",
       "      <td>nepal</td>\n",
       "      <td>gaurigunj, chitwan, bagmati province, nepal</td>\n",
       "    </tr>\n",
       "    <tr>\n",
       "      <th>...</th>\n",
       "      <td>...</td>\n",
       "      <td>...</td>\n",
       "      <td>...</td>\n",
       "      <td>...</td>\n",
       "      <td>...</td>\n",
       "      <td>...</td>\n",
       "      <td>...</td>\n",
       "      <td>...</td>\n",
       "      <td>...</td>\n",
       "      <td>...</td>\n",
       "      <td>...</td>\n",
       "      <td>...</td>\n",
       "      <td>...</td>\n",
       "    </tr>\n",
       "    <tr>\n",
       "      <th>639</th>\n",
       "      <td>40951-842-52</td>\n",
       "      <td>46796-99</td>\n",
       "      <td>Dhan Raj Gurung</td>\n",
       "      <td>1979-09-05</td>\n",
       "      <td>male</td>\n",
       "      <td>dhanrajgurung628@gmail.com</td>\n",
       "      <td>9805777455 9812735540</td>\n",
       "      <td>waiter</td>\n",
       "      <td>muglin</td>\n",
       "      <td>chitwan</td>\n",
       "      <td>bagmati province</td>\n",
       "      <td>nepal</td>\n",
       "      <td>muglin, chitwan, bagmati province, nepal</td>\n",
       "    </tr>\n",
       "    <tr>\n",
       "      <th>640</th>\n",
       "      <td>72150-263-88</td>\n",
       "      <td>95055-09</td>\n",
       "      <td>Sagar Basnet</td>\n",
       "      <td>1988-03-03</td>\n",
       "      <td>male</td>\n",
       "      <td>sagarbasnet478@gmail.com</td>\n",
       "      <td>9862555582 9865039984</td>\n",
       "      <td>journalist</td>\n",
       "      <td>bharatpur</td>\n",
       "      <td>chitwan</td>\n",
       "      <td>bagmati province</td>\n",
       "      <td>nepal</td>\n",
       "      <td>bharatpur, chitwan, bagmati province, nepal</td>\n",
       "    </tr>\n",
       "    <tr>\n",
       "      <th>641</th>\n",
       "      <td>08360-275-13</td>\n",
       "      <td>43469-99</td>\n",
       "      <td>Bikash Thapa</td>\n",
       "      <td>1997-04-24</td>\n",
       "      <td>male</td>\n",
       "      <td>bikashthapa779@gmail.com</td>\n",
       "      <td>9817487631 9811159036</td>\n",
       "      <td>farmer</td>\n",
       "      <td>gaurigunj</td>\n",
       "      <td>chitwan</td>\n",
       "      <td>bagmati province</td>\n",
       "      <td>nepal</td>\n",
       "      <td>gaurigunj, chitwan, bagmati province, nepal</td>\n",
       "    </tr>\n",
       "    <tr>\n",
       "      <th>642</th>\n",
       "      <td>79094-104-89</td>\n",
       "      <td>00446-77</td>\n",
       "      <td>Dal Bahdaur Ale</td>\n",
       "      <td>1968-04-02</td>\n",
       "      <td>male</td>\n",
       "      <td>dalbahdaurale455@gmail.com</td>\n",
       "      <td>9811273176 9826200217</td>\n",
       "      <td>fireman</td>\n",
       "      <td>patiyani</td>\n",
       "      <td>chitwan</td>\n",
       "      <td>bagmati province</td>\n",
       "      <td>nepal</td>\n",
       "      <td>patiyani, chitwan, bagmati province, nepal</td>\n",
       "    </tr>\n",
       "    <tr>\n",
       "      <th>643</th>\n",
       "      <td>24144-193-69</td>\n",
       "      <td>46409-69</td>\n",
       "      <td>Baal Krishna Kandel</td>\n",
       "      <td>1994-09-07</td>\n",
       "      <td>male</td>\n",
       "      <td>baalkrishnakandel491@gmail.com</td>\n",
       "      <td>9841479330 9855051767</td>\n",
       "      <td>judge</td>\n",
       "      <td>kalika</td>\n",
       "      <td>chitwan</td>\n",
       "      <td>bagmati province</td>\n",
       "      <td>nepal</td>\n",
       "      <td>kalika, chitwan, bagmati province, nepal</td>\n",
       "    </tr>\n",
       "  </tbody>\n",
       "</table>\n",
       "<p>644 rows × 13 columns</p>\n",
       "</div>"
      ],
      "text/plain": [
       "    citizenship number pan number            full name date of birth  gender  \\\n",
       "0         73537-497-86   76249-52     Jinisha Shrestha    1988-08-18  female   \n",
       "1         97298-891-50   70993-75      Ramsaran Basnet    1994-02-06    male   \n",
       "2         22950-423-88   91623-53         Sujan Gurung    1994-01-27    male   \n",
       "3         10790-729-88   09666-88      Setimaya Tamang    1979-08-21  female   \n",
       "4         14132-832-40   89567-62  Til Bahadhur Bohara    1980-06-20    male   \n",
       "..                 ...        ...                  ...           ...     ...   \n",
       "639       40951-842-52   46796-99      Dhan Raj Gurung    1979-09-05    male   \n",
       "640       72150-263-88   95055-09         Sagar Basnet    1988-03-03    male   \n",
       "641       08360-275-13   43469-99         Bikash Thapa    1997-04-24    male   \n",
       "642       79094-104-89   00446-77      Dal Bahdaur Ale    1968-04-02    male   \n",
       "643       24144-193-69   46409-69  Baal Krishna Kandel    1994-09-07    male   \n",
       "\n",
       "                              email                  phone  occupation  \\\n",
       "0      jinishashrestha662@gmail.com             9865094750       pilot   \n",
       "1       ramsaranbasnet117@gmail.com             9807133903  journalist   \n",
       "2          sujangurung092@gmail.com             9846713843      driver   \n",
       "3       setimayatamang520@gmail.com             9845142417        cook   \n",
       "4    tilbahadhurbohara468@gmail.com             9857042059   secretary   \n",
       "..                              ...                    ...         ...   \n",
       "639      dhanrajgurung628@gmail.com  9805777455 9812735540      waiter   \n",
       "640        sagarbasnet478@gmail.com  9862555582 9865039984  journalist   \n",
       "641        bikashthapa779@gmail.com  9817487631 9811159036      farmer   \n",
       "642      dalbahdaurale455@gmail.com  9811273176 9826200217     fireman   \n",
       "643  baalkrishnakandel491@gmail.com  9841479330 9855051767       judge   \n",
       "\n",
       "          city district             state country  \\\n",
       "0    gaurigunj  chitwan  bagmati province   nepal   \n",
       "1     patiyani  chitwan  bagmati province   nepal   \n",
       "2     patiyani  chitwan  bagmati province   nepal   \n",
       "3         tadi  chitwan  bagmati province   nepal   \n",
       "4    gaurigunj  chitwan  bagmati province   nepal   \n",
       "..         ...      ...               ...     ...   \n",
       "639     muglin  chitwan  bagmati province   nepal   \n",
       "640  bharatpur  chitwan  bagmati province   nepal   \n",
       "641  gaurigunj  chitwan  bagmati province   nepal   \n",
       "642   patiyani  chitwan  bagmati province   nepal   \n",
       "643     kalika  chitwan  bagmati province   nepal   \n",
       "\n",
       "                                         address  \n",
       "0    gaurigunj, chitwan, bagmati province, nepal  \n",
       "1     patiyani, chitwan, bagmati province, nepal  \n",
       "2     patiyani, chitwan, bagmati province, nepal  \n",
       "3         tadi, chitwan, bagmati province, nepal  \n",
       "4    gaurigunj, chitwan, bagmati province, nepal  \n",
       "..                                           ...  \n",
       "639     muglin, chitwan, bagmati province, nepal  \n",
       "640  bharatpur, chitwan, bagmati province, nepal  \n",
       "641  gaurigunj, chitwan, bagmati province, nepal  \n",
       "642   patiyani, chitwan, bagmati province, nepal  \n",
       "643     kalika, chitwan, bagmati province, nepal  \n",
       "\n",
       "[644 rows x 13 columns]"
      ]
     },
     "execution_count": 540,
     "metadata": {},
     "output_type": "execute_result"
    }
   ],
   "source": [
    "\n",
    "customer_df = pd.read_csv(\"C:\\\\Users\\\\ashis\\\\OneDrive\\\\Desktop\\\\project\\\\customer.csv\")\n",
    "customer_df"
   ]
  },
  {
   "cell_type": "code",
   "execution_count": null,
   "id": "fe997bb5",
   "metadata": {},
   "outputs": [],
   "source": [
    "customer_df.columns"
   ]
  },
  {
   "cell_type": "code",
   "execution_count": null,
   "id": "b4036819",
   "metadata": {},
   "outputs": [],
   "source": [
    "\n",
    "customer_df[\"citizenship number\"] = [\"{start}-{mid}-{end}\".format(\n",
    "        start = ''.join([\"{}\".format(randint(0, 9)) for num in range(0, 5)]),\n",
    "        mid =  ''.join([\"{}\".format(randint(0, 9)) for num in range(0, 3)]),\n",
    "        end = ''.join([\"{}\".format(randint(0, 9)) for num in range(0, 2)])\n",
    "        ) for row in customer_df[\"citizenship number\"]]\n",
    "customer_df[\"citizenship number\"] = [row.strip() for row in customer_df[\"citizenship number\"]]\n",
    "customer_df[\"citizenship number\"]"
   ]
  },
  {
   "cell_type": "code",
   "execution_count": null,
   "id": "f6456294",
   "metadata": {},
   "outputs": [],
   "source": [
    "customer_df[\"pan number\"] = [\"{start}-{end}\".format(\n",
    "        start = ''.join([\"{}\".format(randint(0, 9)) for num in range(0, 5)]),\n",
    "        end = ''.join([\"{}\".format(randint(0, 9)) for num in range(0, 2)])\n",
    "        ) for row in customer_df[\"pan number\"]]\n",
    "customer_df[\"pan number\"] = [row.strip() for row in customer_df[\"pan number\"]]\n",
    "customer_df[\"pan number\"]"
   ]
  },
  {
   "cell_type": "code",
   "execution_count": null,
   "id": "9cb47a67",
   "metadata": {},
   "outputs": [],
   "source": [
    "customer_df[\"full name\"] = [\" \".join(full_name.split()).title() for full_name in customer_df[\"full name\"]]\n",
    "customer_df[\"full name\"]"
   ]
  },
  {
   "cell_type": "code",
   "execution_count": null,
   "id": "6f4147d1",
   "metadata": {},
   "outputs": [],
   "source": [
    "\n",
    "customer_df[\"date of birth\"] = [random_date(start_date=date(1960, 1, 1), end_date=date(2000, 1, 15)) for row in customer_df[\"date of birth\"]]\n",
    "customer_df[\"date of birth\"]"
   ]
  },
  {
   "cell_type": "code",
   "execution_count": null,
   "id": "cd59909a",
   "metadata": {},
   "outputs": [],
   "source": [
    "customer_df[\"gender\"] = customer_df[\"gender\"].str.lower()\n",
    "customer_df[\"gender\"]"
   ]
  },
  {
   "cell_type": "code",
   "execution_count": null,
   "id": "f8ebb183",
   "metadata": {},
   "outputs": [],
   "source": [
    "customer_df[\"email\"] = customer_df.apply(lambda row: \"{text}{rand_num}@gmail.com\".format(\n",
    "    text = ''.join(row[\"full name\"].split()).lower(),\n",
    "    rand_num = ''.join([\"{}\".format(randint(0, 9)) for num in range(0, 3)]),\n",
    "), axis=\"columns\")\n",
    "\n",
    "customer_df[\"email\"]"
   ]
  },
  {
   "cell_type": "code",
   "execution_count": null,
   "id": "6a6cd891",
   "metadata": {},
   "outputs": [],
   "source": [
    "customer_df.columns"
   ]
  },
  {
   "cell_type": "code",
   "execution_count": null,
   "id": "51d9fda8",
   "metadata": {},
   "outputs": [],
   "source": [
    "customer_df[\"phone\"] = [\"{value}\".format(value = v).replace(\"/\", \" \") for v in customer_df[\"phone\"]]\n",
    "customer_df[\"phone\"]"
   ]
  },
  {
   "cell_type": "code",
   "execution_count": null,
   "id": "fa52a25b",
   "metadata": {},
   "outputs": [],
   "source": [
    "occupation = [\n",
    "        'actor',\n",
    "        'baker',\n",
    "        'butcher',\n",
    "        'carpenter',\n",
    "        'cook',\n",
    "        'doctor',\n",
    "        'driver',\n",
    "        'engineer',\n",
    "        'farmer',\n",
    "        'fireman',\n",
    "        'fireworker',\n",
    "        'fisherman',\n",
    "        'gardener',\n",
    "        'goldsmith',\n",
    "        'hairdresser',\n",
    "        'journalist',\n",
    "        'judge',\n",
    "        'lawyer',\n",
    "        'mason',\n",
    "        'mechanic',\n",
    "        'nurse',\n",
    "        'painter',\n",
    "        'pilot',\n",
    "        'plumber',\n",
    "        'policeman',\n",
    "        'postman',\n",
    "        'secretary',\n",
    "        'singer',\n",
    "        'soldier',\n",
    "        'teacher',\n",
    "        'waiter',\n",
    "    ]\n",
    "\n",
    "customer_df[\"occupation\"] = [occupation.__getitem__(random.randrange(0, 31)) for row in customer_df[\"occupation\"]]\n",
    "customer_df[\"occupation\"]"
   ]
  },
  {
   "cell_type": "code",
   "execution_count": null,
   "id": "17e39e7c",
   "metadata": {},
   "outputs": [],
   "source": [
    "city= [\n",
    "    \"bharatpur\",\n",
    "    \"narayangarh\",\n",
    "    \"patiyani\",\n",
    "    \"sardanagar\",\n",
    "    \"muglin\",\n",
    "    \"kurintar\",\n",
    "    \"ramnagar\",\n",
    "    \"rampur\",\n",
    "    \"mangalpur\",\n",
    "    \"bojhad\",\n",
    "    \"baseni\",\n",
    "    \"tadi\",\n",
    "    \"jutpani\",\n",
    "    \"bhoteni\",\n",
    "    \"kalika\",\n",
    "    \"parsa\",\n",
    "    \"bhandara\",\n",
    "    \"lother\",\n",
    "    \"gaurigunj\",\n",
    "    \"kamalnagar\",\n",
    "    \"shivanagar\",\n",
    "    \"shivaghat\",\n",
    "    \"sauraha\",\n",
    "]\n",
    "customer_df[\"city\"] = [city.__getitem__(random.randrange(0, 23)) for row in customer_df[\"city\"]]\n",
    "customer_df[\"city\"]"
   ]
  },
  {
   "cell_type": "code",
   "execution_count": null,
   "id": "f5643213",
   "metadata": {},
   "outputs": [],
   "source": [
    "customer_df[\"district\"] = [\"chitwan\" for row in customer_df[\"district\"]]\n",
    "customer_df[\"district\"]"
   ]
  },
  {
   "cell_type": "code",
   "execution_count": null,
   "id": "5873ca56",
   "metadata": {},
   "outputs": [],
   "source": [
    "customer_df[\"state\"] = [\"bagmati province\" for row in customer_df[\"state\"]]\n",
    "customer_df[\"state\"]"
   ]
  },
  {
   "cell_type": "code",
   "execution_count": null,
   "id": "6fd7f4f4",
   "metadata": {},
   "outputs": [],
   "source": [
    "customer_df[\"country\"] = \"nepal\"\n",
    "customer_df[\"country\"]"
   ]
  },
  {
   "cell_type": "code",
   "execution_count": null,
   "id": "c403241a",
   "metadata": {},
   "outputs": [],
   "source": [
    "customer_df[\"address\"] = customer_df[\"city\"] + \", \" + customer_df[\"district\"] + \", \" + customer_df[\"state\"] + \", \"+ customer_df[\"country\"]\n",
    "customer_df[\"address\"]"
   ]
  },
  {
   "cell_type": "code",
   "execution_count": null,
   "id": "87790053",
   "metadata": {},
   "outputs": [],
   "source": [
    "customer_df.to_csv(path_or_buf=\"C:\\\\Users\\\\ashis\\\\OneDrive\\\\Desktop\\\\project\\\\customer.csv\", index=False)"
   ]
  },
  {
   "cell_type": "markdown",
   "id": "fb505cbd",
   "metadata": {},
   "source": [
    "# Scheme Csv"
   ]
  },
  {
   "cell_type": "code",
   "execution_count": 541,
   "id": "8539798a",
   "metadata": {},
   "outputs": [
    {
     "data": {
      "text/html": [
       "<div>\n",
       "<style scoped>\n",
       "    .dataframe tbody tr th:only-of-type {\n",
       "        vertical-align: middle;\n",
       "    }\n",
       "\n",
       "    .dataframe tbody tr th {\n",
       "        vertical-align: top;\n",
       "    }\n",
       "\n",
       "    .dataframe thead th {\n",
       "        text-align: right;\n",
       "    }\n",
       "</style>\n",
       "<table border=\"1\" class=\"dataframe\">\n",
       "  <thead>\n",
       "    <tr style=\"text-align: right;\">\n",
       "      <th></th>\n",
       "      <th>scheme name</th>\n",
       "      <th>description</th>\n",
       "    </tr>\n",
       "  </thead>\n",
       "  <tbody>\n",
       "    <tr>\n",
       "      <th>0</th>\n",
       "      <td>Monsoon</td>\n",
       "      <td>It falls on rainy season</td>\n",
       "    </tr>\n",
       "    <tr>\n",
       "      <th>1</th>\n",
       "      <td>New Year</td>\n",
       "      <td>It falls around Nepali New Year</td>\n",
       "    </tr>\n",
       "    <tr>\n",
       "      <th>2</th>\n",
       "      <td>Dashain Tihar</td>\n",
       "      <td>It falls around Dashain, Tihar and ends on Chath</td>\n",
       "    </tr>\n",
       "    <tr>\n",
       "      <th>3</th>\n",
       "      <td>Winter</td>\n",
       "      <td>It occurs in winter season</td>\n",
       "    </tr>\n",
       "    <tr>\n",
       "      <th>4</th>\n",
       "      <td>Regular</td>\n",
       "      <td>This is regular scheme or rather say when ther...</td>\n",
       "    </tr>\n",
       "  </tbody>\n",
       "</table>\n",
       "</div>"
      ],
      "text/plain": [
       "     scheme name                                        description\n",
       "0        Monsoon                           It falls on rainy season\n",
       "1       New Year                    It falls around Nepali New Year\n",
       "2  Dashain Tihar   It falls around Dashain, Tihar and ends on Chath\n",
       "3         Winter                         It occurs in winter season\n",
       "4        Regular  This is regular scheme or rather say when ther..."
      ]
     },
     "execution_count": 541,
     "metadata": {},
     "output_type": "execute_result"
    }
   ],
   "source": [
    "scheme_df = pd.read_csv(\"C:\\\\Users\\\\ashis\\\\OneDrive\\\\Desktop\\\\project\\\\scheme.csv\")\n",
    "scheme_df.head()"
   ]
  },
  {
   "cell_type": "code",
   "execution_count": null,
   "id": "3023f10e",
   "metadata": {},
   "outputs": [],
   "source": [
    "# scheme_df.drop(['Unnamed: 0'], axis=\"columns\", inplace=True)"
   ]
  },
  {
   "cell_type": "code",
   "execution_count": null,
   "id": "9bc0d838",
   "metadata": {},
   "outputs": [],
   "source": [
    "scheme_df.to_csv(path_or_buf=\"C:\\\\Users\\\\ashis\\\\OneDrive\\\\Desktop\\\\project\\\\scheme.csv\", index=False)\n"
   ]
  },
  {
   "cell_type": "markdown",
   "id": "46dfc718",
   "metadata": {},
   "source": []
  },
  {
   "cell_type": "code",
   "execution_count": 15,
   "id": "f5659fae",
   "metadata": {},
   "outputs": [
    {
     "data": {
      "text/html": [
       "<div>\n",
       "<style scoped>\n",
       "    .dataframe tbody tr th:only-of-type {\n",
       "        vertical-align: middle;\n",
       "    }\n",
       "\n",
       "    .dataframe tbody tr th {\n",
       "        vertical-align: top;\n",
       "    }\n",
       "\n",
       "    .dataframe thead th {\n",
       "        text-align: right;\n",
       "    }\n",
       "</style>\n",
       "<table border=\"1\" class=\"dataframe\">\n",
       "  <thead>\n",
       "    <tr style=\"text-align: right;\">\n",
       "      <th></th>\n",
       "      <th>vehicle model</th>\n",
       "      <th>color</th>\n",
       "      <th>chasis number</th>\n",
       "      <th>engine number</th>\n",
       "      <th>registration number</th>\n",
       "      <th>key number</th>\n",
       "      <th>battery number</th>\n",
       "      <th>mfd year</th>\n",
       "    </tr>\n",
       "  </thead>\n",
       "  <tbody>\n",
       "    <tr>\n",
       "      <th>0</th>\n",
       "      <td>sxl 150cc</td>\n",
       "      <td>blue</td>\n",
       "      <td>MET0002JAYF001104</td>\n",
       "      <td>M440M3045249</td>\n",
       "      <td>Pra 3-02-008 Pa 7184</td>\n",
       "      <td>1234</td>\n",
       "      <td>M6A1N267960</td>\n",
       "      <td>2019</td>\n",
       "    </tr>\n",
       "    <tr>\n",
       "      <th>1</th>\n",
       "      <td>storm 125cc</td>\n",
       "      <td>matt black</td>\n",
       "      <td>MET0001CAZA013282</td>\n",
       "      <td>M912M3025684</td>\n",
       "      <td>Pra 3-02-015 Pa 8923</td>\n",
       "      <td>1235</td>\n",
       "      <td>M6A1N267959</td>\n",
       "      <td>2019</td>\n",
       "    </tr>\n",
       "    <tr>\n",
       "      <th>2</th>\n",
       "      <td>sxl 125cc</td>\n",
       "      <td>matt red</td>\n",
       "      <td>MET0002EAYL001310</td>\n",
       "      <td>M449M3239710</td>\n",
       "      <td>Pra 3-02-013 Pa 9684</td>\n",
       "      <td>1236</td>\n",
       "      <td>M6A1N267958</td>\n",
       "      <td>2019</td>\n",
       "    </tr>\n",
       "    <tr>\n",
       "      <th>3</th>\n",
       "      <td>sxl 125cc</td>\n",
       "      <td>matt red</td>\n",
       "      <td>MET0002EAYM001352</td>\n",
       "      <td>M449M3240708</td>\n",
       "      <td>Pra 3-02-014 Pa 5437</td>\n",
       "      <td>2463</td>\n",
       "      <td>M6G9M210094</td>\n",
       "      <td>2019</td>\n",
       "    </tr>\n",
       "    <tr>\n",
       "      <th>4</th>\n",
       "      <td>sr 125cc</td>\n",
       "      <td>blue</td>\n",
       "      <td>MET0003BAZB002492</td>\n",
       "      <td>M912M3026069</td>\n",
       "      <td>Pra 3-02-015 Pa 9939</td>\n",
       "      <td>2464</td>\n",
       "      <td>M6L0N177056</td>\n",
       "      <td>2019</td>\n",
       "    </tr>\n",
       "  </tbody>\n",
       "</table>\n",
       "</div>"
      ],
      "text/plain": [
       "  vehicle model       color      chasis number engine number  \\\n",
       "0     sxl 150cc        blue  MET0002JAYF001104  M440M3045249   \n",
       "1   storm 125cc  matt black  MET0001CAZA013282  M912M3025684   \n",
       "2     sxl 125cc    matt red  MET0002EAYL001310  M449M3239710   \n",
       "3     sxl 125cc    matt red  MET0002EAYM001352  M449M3240708   \n",
       "4      sr 125cc        blue  MET0003BAZB002492  M912M3026069   \n",
       "\n",
       "    registration number  key number battery number  mfd year  \n",
       "0  Pra 3-02-008 Pa 7184        1234    M6A1N267960      2019  \n",
       "1  Pra 3-02-015 Pa 8923        1235    M6A1N267959      2019  \n",
       "2  Pra 3-02-013 Pa 9684        1236    M6A1N267958      2019  \n",
       "3  Pra 3-02-014 Pa 5437        2463    M6G9M210094      2019  \n",
       "4  Pra 3-02-015 Pa 9939        2464    M6L0N177056      2019  "
      ]
     },
     "execution_count": 15,
     "metadata": {},
     "output_type": "execute_result"
    }
   ],
   "source": [
    "vehicle_df = pd.read_csv(\"C:\\\\Users\\\\ashis\\\\OneDrive\\\\Desktop\\\\project\\\\vehicle.csv\")\n",
    "vehicle_df.head()"
   ]
  },
  {
   "cell_type": "code",
   "execution_count": null,
   "id": "8f808f06",
   "metadata": {},
   "outputs": [],
   "source": [
    "vehicle_df[\"vehicle model\"] = vehicle_df[\"vehicle model\"].apply(lambda x : x.lower().replace(\"-\", \" \"))\n",
    "vehicle_df[\"vehicle model\"]"
   ]
  },
  {
   "cell_type": "code",
   "execution_count": null,
   "id": "d6d7864f",
   "metadata": {},
   "outputs": [],
   "source": [
    "vehicle_df[\"color\"] = vehicle_df[\"color\"].apply(lambda x: x.lower())\n",
    "vehicle_df[\"color\"]"
   ]
  },
  {
   "cell_type": "code",
   "execution_count": null,
   "id": "de083c31",
   "metadata": {},
   "outputs": [],
   "source": [
    "vehicle_df[\"registration number\"] = vehicle_df[\"registration number\"].apply(lambda x: x.title())\n",
    "vehicle_df[\"registration number\"].values"
   ]
  },
  {
   "cell_type": "code",
   "execution_count": null,
   "id": "35160f7b",
   "metadata": {},
   "outputs": [],
   "source": [
    "vehicle_df[\"registration number\"] = vehicle_df[\"registration number\"].str.replace(\"State\", \"Pra\")"
   ]
  },
  {
   "cell_type": "code",
   "execution_count": null,
   "id": "729f6ec2",
   "metadata": {},
   "outputs": [],
   "source": [
    "vehicle_df[\"vehicle model\"] = vehicle_df[\"vehicle model\"].apply(lambda x: \" \".join(x.split()))"
   ]
  },
  {
   "cell_type": "code",
   "execution_count": null,
   "id": "51fff8e0",
   "metadata": {},
   "outputs": [],
   "source": [
    "vehicle_df[\"vehicle model\"] = vehicle_df[\"vehicle model\"].apply(lambda x: x.replace(\"vespa\", \"\"))\n",
    "vehicle_df[\"vehicle model\"] = vehicle_df[\"vehicle model\"].apply(lambda x: x.replace(\"aprilia\", \"\"))\n",
    "vehicle_df[\"vehicle model\"] = vehicle_df[\"vehicle model\"].apply(lambda x: x.replace(\"aprialia\", \"\"))"
   ]
  },
  {
   "cell_type": "code",
   "execution_count": null,
   "id": "c3f798fb",
   "metadata": {},
   "outputs": [],
   "source": [
    "vehicle_df[\"vehicle model\"] = vehicle_df[\"vehicle model\"].apply(lambda x: x.strip())"
   ]
  },
  {
   "cell_type": "code",
   "execution_count": null,
   "id": "c4d31e2b",
   "metadata": {},
   "outputs": [],
   "source": [
    "vehicle_df.loc[vehicle_df[\"vehicle model\"] == \"lx\", \"vehicle model\"] = \"lx 125cc\"\n",
    "vehicle_df.loc[vehicle_df[\"vehicle model\"] == \"lx125\", \"vehicle model\"] = \"lx 125cc\"\n",
    "vehicle_df.loc[vehicle_df[\"vehicle model\"] == \"lx 125\", \"vehicle model\"] = \"lx 125cc\"\n",
    "vehicle_df.loc[vehicle_df[\"vehicle model\"] == \"125lx\", \"vehicle model\"] = \"lx 125cc\"\n",
    "vehicle_df.loc[vehicle_df[\"vehicle model\"] == \"lx125cc\", \"vehicle model\"] = \"lx 125cc\"\n",
    "vehicle_df.loc[vehicle_df[\"vehicle model\"] == \"lx 125 cc\", \"vehicle model\"] = \"lx 125cc\""
   ]
  },
  {
   "cell_type": "code",
   "execution_count": null,
   "id": "f71429c0",
   "metadata": {},
   "outputs": [],
   "source": [
    "vehicle_df.loc[vehicle_df[\"vehicle model\"] == \"125vxl\", \"vehicle model\"] = \"vxl 125cc\"\n",
    "vehicle_df.loc[vehicle_df[\"vehicle model\"] == \"125 vxl\", \"vehicle model\"] = \"vxl 125cc\"\n",
    "vehicle_df.loc[vehicle_df[\"vehicle model\"] == \"vxl125\", \"vehicle model\"] = \"vxl 125cc\"\n",
    "vehicle_df.loc[vehicle_df[\"vehicle model\"] == \"vxl 125\", \"vehicle model\"] = \"vxl 125cc\"\n",
    "vehicle_df.loc[vehicle_df[\"vehicle model\"] == \"vxl125cc\", \"vehicle model\"] = \"vxl 125cc\"\n",
    "vehicle_df.loc[vehicle_df[\"vehicle model\"] == \"vxl 125 cc\", \"vehicle model\"] = \"vxl 125cc\""
   ]
  },
  {
   "cell_type": "code",
   "execution_count": null,
   "id": "c1c24577",
   "metadata": {},
   "outputs": [],
   "source": [
    "vehicle_df.loc[vehicle_df[\"vehicle model\"] == \"150vxl\", \"vehicle model\"] = \"vxl 150cc\"\n",
    "vehicle_df.loc[vehicle_df[\"vehicle model\"] == \"150 vxl\", \"vehicle model\"] = \"vxl 150cc\"\n",
    "vehicle_df.loc[vehicle_df[\"vehicle model\"] == \"vxl150\", \"vehicle model\"] = \"vxl 150cc\"\n",
    "vehicle_df.loc[vehicle_df[\"vehicle model\"] == \"vxl 150\", \"vehicle model\"] = \"vxl 150cc\"\n",
    "vehicle_df.loc[vehicle_df[\"vehicle model\"] == \"vxl150cc\", \"vehicle model\"] = \"vxl 150cc\"\n",
    "vehicle_df.loc[vehicle_df[\"vehicle model\"] == \"vxl 150 cc\", \"vehicle model\"] = \"vxl 150cc\""
   ]
  },
  {
   "cell_type": "code",
   "execution_count": null,
   "id": "1f3efe71",
   "metadata": {},
   "outputs": [],
   "source": [
    "vehicle_df.loc[vehicle_df[\"vehicle model\"] == \"125sxl\", \"vehicle model\"] = \"sxl 125cc\"\n",
    "vehicle_df.loc[vehicle_df[\"vehicle model\"] == \"125 sxl\", \"vehicle model\"] = \"sxl 125cc\"\n",
    "vehicle_df.loc[vehicle_df[\"vehicle model\"] == \"sxl125\", \"vehicle model\"] = \"sxl 125cc\"\n",
    "vehicle_df.loc[vehicle_df[\"vehicle model\"] == \"sxl 125\", \"vehicle model\"] = \"sxl 125cc\"\n",
    "vehicle_df.loc[vehicle_df[\"vehicle model\"] == \"sxl125cc\", \"vehicle model\"] = \"sxl 125cc\"\n",
    "vehicle_df.loc[vehicle_df[\"vehicle model\"] == \"sxl 125 cc\", \"vehicle model\"] = \"sxl 125cc\""
   ]
  },
  {
   "cell_type": "code",
   "execution_count": null,
   "id": "abc1097f",
   "metadata": {},
   "outputs": [],
   "source": [
    "vehicle_df.loc[vehicle_df[\"vehicle model\"] == \"150sxl\", \"vehicle model\"] = \"sxl 150cc\"\n",
    "vehicle_df.loc[vehicle_df[\"vehicle model\"] == \"150 sxl\", \"vehicle model\"] = \"sxl 150cc\"\n",
    "vehicle_df.loc[vehicle_df[\"vehicle model\"] == \"sxl150\", \"vehicle model\"] = \"sxl 150cc\"\n",
    "vehicle_df.loc[vehicle_df[\"vehicle model\"] == \"sxl 150\", \"vehicle model\"] = \"sxl 150cc\"\n",
    "vehicle_df.loc[vehicle_df[\"vehicle model\"] == \"sxl150cc\", \"vehicle model\"] = \"sxl 150cc\"\n",
    "vehicle_df.loc[vehicle_df[\"vehicle model\"] == \"sxl 150 cc\", \"vehicle model\"] = \"sxl 150cc\""
   ]
  },
  {
   "cell_type": "code",
   "execution_count": null,
   "id": "43ff772d",
   "metadata": {},
   "outputs": [],
   "source": [
    "vehicle_df.loc[vehicle_df[\"vehicle model\"] == \"125sxlmatte\", \"vehicle model\"] = \"sxl matte 125cc\"\n",
    "vehicle_df.loc[vehicle_df[\"vehicle model\"] == \"125sxl matte\", \"vehicle model\"] = \"sxl matte 125cc\"\n",
    "vehicle_df.loc[vehicle_df[\"vehicle model\"] == \"125 sxl matte\", \"vehicle model\"] = \"sxl matte 125cc\"\n",
    "vehicle_df.loc[vehicle_df[\"vehicle model\"] == \"sxlmatte125\", \"vehicle model\"] = \"sxl matte 125cc\"\n",
    "vehicle_df.loc[vehicle_df[\"vehicle model\"] == \"sxlmatte 125\", \"vehicle model\"] = \"sxl matte 125cc\"\n",
    "vehicle_df.loc[vehicle_df[\"vehicle model\"] == \"sxl matte 125\", \"vehicle model\"] = \"sxl matte 125cc\"\n",
    "vehicle_df.loc[vehicle_df[\"vehicle model\"] == \"sxlmatte125cc\", \"vehicle model\"] = \"sxl matte 125cc\""
   ]
  },
  {
   "cell_type": "code",
   "execution_count": null,
   "id": "cfd5fa60",
   "metadata": {},
   "outputs": [],
   "source": [
    "vehicle_df.loc[vehicle_df[\"vehicle model\"] == \"150sxlmatte\", \"vehicle model\"] = \"sxl matte 150cc\"\n",
    "vehicle_df.loc[vehicle_df[\"vehicle model\"] == \"150sxl matte\", \"vehicle model\"] = \"sxl matte 150cc\"\n",
    "vehicle_df.loc[vehicle_df[\"vehicle model\"] == \"150 sxl matte\", \"vehicle model\"] = \"sxl matte 150cc\"\n",
    "vehicle_df.loc[vehicle_df[\"vehicle model\"] == \"sxlmatte150\", \"vehicle model\"] = \"sxl matte 150cc\"\n",
    "vehicle_df.loc[vehicle_df[\"vehicle model\"] == \"sxlmatte 150\", \"vehicle model\"] = \"sxl matte 150cc\"\n",
    "vehicle_df.loc[vehicle_df[\"vehicle model\"] == \"sxl matte 150\", \"vehicle model\"] = \"sxl matte 150cc\"\n",
    "vehicle_df.loc[vehicle_df[\"vehicle model\"] == \"sxlmatte150cc\", \"vehicle model\"] = \"sxl matte 150cc\""
   ]
  },
  {
   "cell_type": "code",
   "execution_count": null,
   "id": "4ac8e757",
   "metadata": {},
   "outputs": [],
   "source": [
    "vehicle_df.loc[vehicle_df[\"vehicle model\"] == \"elegante\", \"vehicle model\"] = \"elegante 150cc\"\n",
    "vehicle_df.loc[vehicle_df[\"vehicle model\"] == \"elegante150\", \"vehicle model\"] = \"elegante 150cc\"\n",
    "vehicle_df.loc[vehicle_df[\"vehicle model\"] == \"elegante 150\", \"vehicle model\"] = \"elegante 150cc\"\n",
    "vehicle_df.loc[vehicle_df[\"vehicle model\"] == \"elegante150cc\", \"vehicle model\"] = \"elegante 150cc\"\n",
    "vehicle_df.loc[vehicle_df[\"vehicle model\"] == \"vxl 150 elegant\", \"vehicle model\"] = \"elegante 150cc\""
   ]
  },
  {
   "cell_type": "code",
   "execution_count": null,
   "id": "687066d3",
   "metadata": {},
   "outputs": [],
   "source": [
    "vehicle_df.loc[vehicle_df[\"vehicle model\"] == \"strom\", \"vehicle model\"] = \"storm 125cc\"\n",
    "vehicle_df.loc[vehicle_df[\"vehicle model\"] == \"125cc\", \"vehicle model\"] = \"storm 125cc\"\n",
    "vehicle_df.loc[vehicle_df[\"vehicle model\"] == \"storm\", \"vehicle model\"] = \"storm 125cc\"\n",
    "vehicle_df.loc[vehicle_df[\"vehicle model\"] == \"strom sr 125cc\", \"vehicle model\"] = \"storm 125cc\"\n",
    "vehicle_df.loc[vehicle_df[\"vehicle model\"] == \"strom 125cc\", \"vehicle model\"] = \"storm 125cc\"\n",
    "vehicle_df.loc[vehicle_df[\"vehicle model\"] == \"strom125cc\", \"vehicle model\"] = \"storm 125cc\"\n",
    "vehicle_df.loc[vehicle_df[\"vehicle model\"] == \"storm125cc\", \"vehicle model\"] = \"storm 125cc\"\n",
    "vehicle_df.loc[vehicle_df[\"vehicle model\"] == \"storm 125 cc\", \"vehicle model\"] = \"storm 125cc\"\n",
    "vehicle_df.loc[vehicle_df[\"vehicle model\"] == \"storm12cc\", \"vehicle model\"] = \"storm 125cc\""
   ]
  },
  {
   "cell_type": "code",
   "execution_count": null,
   "id": "d6e40512",
   "metadata": {},
   "outputs": [],
   "source": [
    "vehicle_df.loc[vehicle_df[\"vehicle model\"] == \"sr 125cc storm\", \"vehicle model\"] = \"sr 125cc\"\n",
    "vehicle_df.loc[vehicle_df[\"vehicle model\"] == \"sr 125 storm\", \"vehicle model\"] = \"sr 125cc\"\n",
    "vehicle_df.loc[vehicle_df[\"vehicle model\"] == \"sr125\", \"vehicle model\"] = \"sr 125cc\"\n",
    "vehicle_df.loc[vehicle_df[\"vehicle model\"] == \"sr 125\", \"vehicle model\"] = \"sr 125cc\"\n",
    "vehicle_df.loc[vehicle_df[\"vehicle model\"] == \"sr125cc\", \"vehicle model\"] = \"sr 125cc\"\n",
    "vehicle_df.loc[vehicle_df[\"vehicle model\"] == \"sr 125 cc\", \"vehicle model\"] = \"sr 125cc\"\n",
    "vehicle_df.loc[vehicle_df[\"vehicle model\"] == \"sr storm 125cc\", \"vehicle model\"] = \"sr 125cc\""
   ]
  },
  {
   "cell_type": "code",
   "execution_count": null,
   "id": "ef3635a1",
   "metadata": {},
   "outputs": [],
   "source": [
    "vehicle_df.loc[vehicle_df[\"vehicle model\"] == \"sr150\", \"vehicle model\"] = \"sr 150cc\"\n",
    "vehicle_df.loc[vehicle_df[\"vehicle model\"] == \"150cc\", \"vehicle model\"] = \"sr 150cc\"\n",
    "vehicle_df.loc[vehicle_df[\"vehicle model\"] == \"sr 150\", \"vehicle model\"] = \"sr 150cc\"\n",
    "vehicle_df.loc[vehicle_df[\"vehicle model\"] == \"sr150cc\", \"vehicle model\"] = \"sr 150cc\"\n",
    "vehicle_df.loc[vehicle_df[\"vehicle model\"] == \"sr 150 cc\", \"vehicle model\"] = \"sr 150cc\""
   ]
  },
  {
   "cell_type": "code",
   "execution_count": null,
   "id": "062f08b6",
   "metadata": {},
   "outputs": [],
   "source": [
    "vehicle_df.loc[vehicle_df[\"vehicle model\"] == \"sr150cc race\", \"vehicle model\"] = \"sr 150cc race\"\n",
    "vehicle_df.loc[vehicle_df[\"vehicle model\"] == \"race 150\", \"vehicle model\"] = \"sr 150cc race\"\n",
    "vehicle_df.loc[vehicle_df[\"vehicle model\"] == \"race 150cc\", \"vehicle model\"] = \"sr 150cc race\"\n",
    "vehicle_df.loc[vehicle_df[\"vehicle model\"] == \"race 150cc\", \"vehicle model\"] = \"sr 150cc race\"\n",
    "vehicle_df.loc[vehicle_df[\"vehicle model\"] == \"sr150race\", \"vehicle model\"] = \"sr 150cc race\"\n",
    "vehicle_df.loc[vehicle_df[\"vehicle model\"] == \"sr race\", \"vehicle model\"] = \"sr 150cc race\"\n",
    "vehicle_df.loc[vehicle_df[\"vehicle model\"] == \"sr 150 race\", \"vehicle model\"] = \"sr 150cc race\"\n",
    "vehicle_df.loc[vehicle_df[\"vehicle model\"] == \"sr 150cc(race)\", \"vehicle model\"] = \"sr 150cc race\"\n",
    "vehicle_df.loc[vehicle_df[\"vehicle model\"] == \"sr 150(race)\", \"vehicle model\"] = \"sr 150cc race\"\n",
    "vehicle_df.loc[vehicle_df[\"vehicle model\"] == \"sr125cc\", \"vehicle model\"] = \"sr 150cc race\"\n",
    "vehicle_df.loc[vehicle_df[\"vehicle model\"] == \"sr race 150cc\", \"vehicle model\"] = \"sr 150cc race\""
   ]
  },
  {
   "cell_type": "code",
   "execution_count": null,
   "id": "6203896d",
   "metadata": {},
   "outputs": [],
   "source": [
    "vehicle_df[\"vehicle model\"].value_counts()"
   ]
  },
  {
   "cell_type": "code",
   "execution_count": null,
   "id": "d537d581",
   "metadata": {},
   "outputs": [],
   "source": [
    "vehicle_df.to_csv(path_or_buf=\"C:\\\\Users\\\\ashis\\\\OneDrive\\\\Desktop\\\\project\\\\vehicle.csv\", index=False)"
   ]
  },
  {
   "cell_type": "markdown",
   "id": "6e49dd41",
   "metadata": {},
   "source": [
    "# Purchase Csv"
   ]
  },
  {
   "cell_type": "code",
   "execution_count": 4,
   "id": "756276a5",
   "metadata": {},
   "outputs": [
    {
     "data": {
      "text/html": [
       "<div>\n",
       "<style scoped>\n",
       "    .dataframe tbody tr th:only-of-type {\n",
       "        vertical-align: middle;\n",
       "    }\n",
       "\n",
       "    .dataframe tbody tr th {\n",
       "        vertical-align: top;\n",
       "    }\n",
       "\n",
       "    .dataframe thead th {\n",
       "        text-align: right;\n",
       "    }\n",
       "</style>\n",
       "<table border=\"1\" class=\"dataframe\">\n",
       "  <thead>\n",
       "    <tr style=\"text-align: right;\">\n",
       "      <th></th>\n",
       "      <th>invoice number</th>\n",
       "      <th>purchase date</th>\n",
       "      <th>price</th>\n",
       "      <th>vendor name</th>\n",
       "      <th>vendor address</th>\n",
       "      <th>vehicle id</th>\n",
       "    </tr>\n",
       "  </thead>\n",
       "  <tbody>\n",
       "    <tr>\n",
       "      <th>0</th>\n",
       "      <td>6982440</td>\n",
       "      <td>2019-01-01</td>\n",
       "      <td>370000.0</td>\n",
       "      <td>Dugar Brothers &amp; Sons</td>\n",
       "      <td>Kathmandu</td>\n",
       "      <td>645</td>\n",
       "    </tr>\n",
       "    <tr>\n",
       "      <th>1</th>\n",
       "      <td>1244209</td>\n",
       "      <td>2019-01-04</td>\n",
       "      <td>255000.0</td>\n",
       "      <td>Dugar Brothers &amp; Sons</td>\n",
       "      <td>Kathmandu</td>\n",
       "      <td>646</td>\n",
       "    </tr>\n",
       "    <tr>\n",
       "      <th>2</th>\n",
       "      <td>9194301</td>\n",
       "      <td>2019-01-05</td>\n",
       "      <td>330000.0</td>\n",
       "      <td>Dugar Brothers &amp; Sons</td>\n",
       "      <td>Kathmandu</td>\n",
       "      <td>647</td>\n",
       "    </tr>\n",
       "    <tr>\n",
       "      <th>3</th>\n",
       "      <td>9004286</td>\n",
       "      <td>2019-01-05</td>\n",
       "      <td>330000.0</td>\n",
       "      <td>Dugar Brothers &amp; Sons</td>\n",
       "      <td>Kathmandu</td>\n",
       "      <td>648</td>\n",
       "    </tr>\n",
       "    <tr>\n",
       "      <th>4</th>\n",
       "      <td>8216776</td>\n",
       "      <td>2019-01-05</td>\n",
       "      <td>260000.0</td>\n",
       "      <td>Dugar Brothers &amp; Sons</td>\n",
       "      <td>Kathmandu</td>\n",
       "      <td>649</td>\n",
       "    </tr>\n",
       "    <tr>\n",
       "      <th>...</th>\n",
       "      <td>...</td>\n",
       "      <td>...</td>\n",
       "      <td>...</td>\n",
       "      <td>...</td>\n",
       "      <td>...</td>\n",
       "      <td>...</td>\n",
       "    </tr>\n",
       "    <tr>\n",
       "      <th>639</th>\n",
       "      <td>3609708</td>\n",
       "      <td>2020-12-20</td>\n",
       "      <td>260000.0</td>\n",
       "      <td>Dugar Brothers &amp; Sons</td>\n",
       "      <td>Kathmandu</td>\n",
       "      <td>1284</td>\n",
       "    </tr>\n",
       "    <tr>\n",
       "      <th>640</th>\n",
       "      <td>9096993</td>\n",
       "      <td>2020-12-20</td>\n",
       "      <td>290000.0</td>\n",
       "      <td>Dugar Brothers &amp; Sons</td>\n",
       "      <td>Kathmandu</td>\n",
       "      <td>1285</td>\n",
       "    </tr>\n",
       "    <tr>\n",
       "      <th>641</th>\n",
       "      <td>2130708</td>\n",
       "      <td>2020-12-20</td>\n",
       "      <td>260000.0</td>\n",
       "      <td>Dugar Brothers &amp; Sons</td>\n",
       "      <td>Kathmandu</td>\n",
       "      <td>1286</td>\n",
       "    </tr>\n",
       "    <tr>\n",
       "      <th>642</th>\n",
       "      <td>7586267</td>\n",
       "      <td>2020-12-27</td>\n",
       "      <td>260000.0</td>\n",
       "      <td>Dugar Brothers &amp; Sons</td>\n",
       "      <td>Kathmandu</td>\n",
       "      <td>1287</td>\n",
       "    </tr>\n",
       "    <tr>\n",
       "      <th>643</th>\n",
       "      <td>9812818</td>\n",
       "      <td>2020-12-28</td>\n",
       "      <td>310000.0</td>\n",
       "      <td>Dugar Brothers &amp; Sons</td>\n",
       "      <td>Kathmandu</td>\n",
       "      <td>1288</td>\n",
       "    </tr>\n",
       "  </tbody>\n",
       "</table>\n",
       "<p>644 rows × 6 columns</p>\n",
       "</div>"
      ],
      "text/plain": [
       "     invoice number purchase date     price            vendor name  \\\n",
       "0           6982440    2019-01-01  370000.0  Dugar Brothers & Sons   \n",
       "1           1244209    2019-01-04  255000.0  Dugar Brothers & Sons   \n",
       "2           9194301    2019-01-05  330000.0  Dugar Brothers & Sons   \n",
       "3           9004286    2019-01-05  330000.0  Dugar Brothers & Sons   \n",
       "4           8216776    2019-01-05  260000.0  Dugar Brothers & Sons   \n",
       "..              ...           ...       ...                    ...   \n",
       "639         3609708    2020-12-20  260000.0  Dugar Brothers & Sons   \n",
       "640         9096993    2020-12-20  290000.0  Dugar Brothers & Sons   \n",
       "641         2130708    2020-12-20  260000.0  Dugar Brothers & Sons   \n",
       "642         7586267    2020-12-27  260000.0  Dugar Brothers & Sons   \n",
       "643         9812818    2020-12-28  310000.0  Dugar Brothers & Sons   \n",
       "\n",
       "    vendor address  vehicle id  \n",
       "0        Kathmandu         645  \n",
       "1        Kathmandu         646  \n",
       "2        Kathmandu         647  \n",
       "3        Kathmandu         648  \n",
       "4        Kathmandu         649  \n",
       "..             ...         ...  \n",
       "639      Kathmandu        1284  \n",
       "640      Kathmandu        1285  \n",
       "641      Kathmandu        1286  \n",
       "642      Kathmandu        1287  \n",
       "643      Kathmandu        1288  \n",
       "\n",
       "[644 rows x 6 columns]"
      ]
     },
     "execution_count": 4,
     "metadata": {},
     "output_type": "execute_result"
    }
   ],
   "source": [
    "purchase_df = pd.read_csv(\"C:\\\\Users\\\\ashis\\\\OneDrive\\\\Desktop\\\\project\\\\purchase.csv\")\n",
    "purchase_df"
   ]
  },
  {
   "cell_type": "code",
   "execution_count": null,
   "id": "9b081d4d",
   "metadata": {},
   "outputs": [],
   "source": [
    "purchase_df.drop(labels=[\"Unnamed: 0\", \"Unnamed: 0.1\"], axis=\"columns\", inplace=True)\n"
   ]
  },
  {
   "cell_type": "code",
   "execution_count": null,
   "id": "1e7964c1",
   "metadata": {},
   "outputs": [],
   "source": [
    "purchase_df[\"purchase date\"] = [random_date(start_date=date(2019, 1, 1), end_date=date(2020, 12, 30)) for row in range(0, 644)]\n",
    "purchase_df[\"purchase date\"]"
   ]
  },
  {
   "cell_type": "code",
   "execution_count": null,
   "id": "1d9a712c",
   "metadata": {},
   "outputs": [],
   "source": [
    "purchase_df[\"invoice number\"] = [random.randrange(1000000, 9999999) for row in range(0, 644)]\n",
    "purchase_df[\"invoice number\"]"
   ]
  },
  {
   "cell_type": "code",
   "execution_count": null,
   "id": "11e92c85",
   "metadata": {},
   "outputs": [],
   "source": [
    "purchase_df.sort_values(by=\"purchase date\", ascending=True, inplace=True)\n",
    "purchase_df.describe()"
   ]
  },
  {
   "cell_type": "code",
   "execution_count": null,
   "id": "72e444f3",
   "metadata": {},
   "outputs": [],
   "source": [
    "purchase_df[\"vendor name\"] = \"Dugar Brothers & Sons\"\n",
    "purchase_df[\"vendor name\"]"
   ]
  },
  {
   "cell_type": "code",
   "execution_count": null,
   "id": "ca9b2f7b",
   "metadata": {},
   "outputs": [],
   "source": [
    "purchase_df[\"vendor address\"] = \"Kathmandu\"\n",
    "purchase_df[\"vendor address\"]"
   ]
  },
  {
   "cell_type": "code",
   "execution_count": null,
   "id": "af93c334",
   "metadata": {},
   "outputs": [],
   "source": [
    "purchase_df[\"vehicle id\"] = [i+1 for i in range(0, 644)]\n",
    "purchase_df[\"vehicle id\"] "
   ]
  },
  {
   "cell_type": "code",
   "execution_count": 16,
   "id": "4d60836e",
   "metadata": {},
   "outputs": [],
   "source": [
    "prices = {\n",
    "    \"lx 125cc\": 250000.00,\n",
    "    \"sr 125cc\": 260000.00,\n",
    "    \"storm 125cc\": 255000.00,\n",
    "    \"sr 150cc\": 290000.00,\n",
    "    \"vxl 125cc\": 310000.00,\n",
    "    \"sxl 125cc\": 330000.00,\n",
    "    \"sr 150cc race\": 300000.00,\n",
    "    \"vxl 150cc\": 350000.00,\n",
    "    \"sxl 150cc\": 370000.00,\n",
    "    \"elegante 150cc\": 390000.00,\n",
    "    \"notte 125cc\": 250000.00,\n",
    "    \"sxl matte 125cc\": 332000.00,\n",
    "}\n",
    "purchase_df[\"price\"] = [prices.get(row, 0.00) for row in vehicle_df[\"vehicle model\"]]"
   ]
  },
  {
   "cell_type": "code",
   "execution_count": 17,
   "id": "46be316a",
   "metadata": {},
   "outputs": [],
   "source": [
    "purchase_df.to_csv(path_or_buf=\"C:\\\\Users\\\\ashis\\\\OneDrive\\\\Desktop\\\\project\\\\purchase.csv\", index=False)"
   ]
  },
  {
   "cell_type": "markdown",
   "id": "12cabfba",
   "metadata": {},
   "source": [
    "# Sale Csv"
   ]
  },
  {
   "cell_type": "code",
   "execution_count": 20,
   "id": "51409b00",
   "metadata": {},
   "outputs": [
    {
     "data": {
      "text/html": [
       "<div>\n",
       "<style scoped>\n",
       "    .dataframe tbody tr th:only-of-type {\n",
       "        vertical-align: middle;\n",
       "    }\n",
       "\n",
       "    .dataframe tbody tr th {\n",
       "        vertical-align: top;\n",
       "    }\n",
       "\n",
       "    .dataframe thead th {\n",
       "        text-align: right;\n",
       "    }\n",
       "</style>\n",
       "<table border=\"1\" class=\"dataframe\">\n",
       "  <thead>\n",
       "    <tr style=\"text-align: right;\">\n",
       "      <th></th>\n",
       "      <th>invoice number</th>\n",
       "      <th>challan number</th>\n",
       "      <th>sale date</th>\n",
       "      <th>amount</th>\n",
       "      <th>discount</th>\n",
       "      <th>payment mode</th>\n",
       "      <th>finance amount</th>\n",
       "      <th>exchange amount</th>\n",
       "      <th>customer id</th>\n",
       "      <th>scheme id</th>\n",
       "      <th>vehicle id</th>\n",
       "    </tr>\n",
       "  </thead>\n",
       "  <tbody>\n",
       "    <tr>\n",
       "      <th>0</th>\n",
       "      <td>7537601</td>\n",
       "      <td>304</td>\n",
       "      <td>2019-02-23</td>\n",
       "      <td>379000.0</td>\n",
       "      <td>5000.0</td>\n",
       "      <td>Cash, Cheque and E-Banking</td>\n",
       "      <td>100000.0</td>\n",
       "      <td>70000.0</td>\n",
       "      <td>645</td>\n",
       "      <td>4</td>\n",
       "      <td>645</td>\n",
       "    </tr>\n",
       "    <tr>\n",
       "      <th>1</th>\n",
       "      <td>4484843</td>\n",
       "      <td>265</td>\n",
       "      <td>2019-02-26</td>\n",
       "      <td>264000.0</td>\n",
       "      <td>5000.0</td>\n",
       "      <td>E-Banking</td>\n",
       "      <td>0.0</td>\n",
       "      <td>70000.0</td>\n",
       "      <td>646</td>\n",
       "      <td>3</td>\n",
       "      <td>646</td>\n",
       "    </tr>\n",
       "    <tr>\n",
       "      <th>2</th>\n",
       "      <td>6571683</td>\n",
       "      <td>975</td>\n",
       "      <td>2019-02-21</td>\n",
       "      <td>339000.0</td>\n",
       "      <td>5000.0</td>\n",
       "      <td>Cash</td>\n",
       "      <td>0.0</td>\n",
       "      <td>60000.0</td>\n",
       "      <td>647</td>\n",
       "      <td>4</td>\n",
       "      <td>647</td>\n",
       "    </tr>\n",
       "    <tr>\n",
       "      <th>3</th>\n",
       "      <td>5155075</td>\n",
       "      <td>569</td>\n",
       "      <td>2019-02-07</td>\n",
       "      <td>339000.0</td>\n",
       "      <td>5000.0</td>\n",
       "      <td>Cash and Cheque</td>\n",
       "      <td>140000.0</td>\n",
       "      <td>90000.0</td>\n",
       "      <td>648</td>\n",
       "      <td>1</td>\n",
       "      <td>648</td>\n",
       "    </tr>\n",
       "    <tr>\n",
       "      <th>4</th>\n",
       "      <td>9050687</td>\n",
       "      <td>431</td>\n",
       "      <td>2019-02-23</td>\n",
       "      <td>269000.0</td>\n",
       "      <td>0.0</td>\n",
       "      <td>Cash</td>\n",
       "      <td>0.0</td>\n",
       "      <td>0.0</td>\n",
       "      <td>649</td>\n",
       "      <td>5</td>\n",
       "      <td>649</td>\n",
       "    </tr>\n",
       "  </tbody>\n",
       "</table>\n",
       "</div>"
      ],
      "text/plain": [
       "   invoice number  challan number   sale date    amount  discount  \\\n",
       "0         7537601             304  2019-02-23  379000.0    5000.0   \n",
       "1         4484843             265  2019-02-26  264000.0    5000.0   \n",
       "2         6571683             975  2019-02-21  339000.0    5000.0   \n",
       "3         5155075             569  2019-02-07  339000.0    5000.0   \n",
       "4         9050687             431  2019-02-23  269000.0       0.0   \n",
       "\n",
       "                 payment mode  finance amount  exchange amount  customer id  \\\n",
       "0  Cash, Cheque and E-Banking        100000.0          70000.0          645   \n",
       "1                   E-Banking             0.0          70000.0          646   \n",
       "2                        Cash             0.0          60000.0          647   \n",
       "3             Cash and Cheque        140000.0          90000.0          648   \n",
       "4                        Cash             0.0              0.0          649   \n",
       "\n",
       "   scheme id  vehicle id  \n",
       "0          4         645  \n",
       "1          3         646  \n",
       "2          4         647  \n",
       "3          1         648  \n",
       "4          5         649  "
      ]
     },
     "execution_count": 20,
     "metadata": {},
     "output_type": "execute_result"
    }
   ],
   "source": [
    "sale_df = pd.read_csv(\"C:\\\\Users\\\\ashis\\\\OneDrive\\\\Desktop\\\\project\\\\sale.csv\")\n",
    "sale_df.head()"
   ]
  },
  {
   "cell_type": "code",
   "execution_count": null,
   "id": "3a59049f",
   "metadata": {},
   "outputs": [],
   "source": [
    "sale_df[\"invoice number\"] = [random.randrange(1000000, 9999999) for row in range(0, 644)]\n",
    "sale_df[\"invoice number\"]"
   ]
  },
  {
   "cell_type": "code",
   "execution_count": null,
   "id": "5d419074",
   "metadata": {},
   "outputs": [],
   "source": [
    "sale_df[\"challan number\"] = [random.randrange(1, 999) for row in range(0, 644)]\n",
    "sale_df[\"challan number\"]"
   ]
  },
  {
   "cell_type": "code",
   "execution_count": null,
   "id": "f3478763",
   "metadata": {},
   "outputs": [],
   "source": [
    "def random_sale_date(date_string):\n",
    "    y, m, d = date_string.split(\"-\")\n",
    "    return random_date(date(int(y), int(m), int(d)), date(int(y), int(m), int(d)) + timedelta(60))\n",
    "\n",
    "sale_df[\"sale date\"] = [random_sale_date(date_) for date_ in purchase_df[\"purchase date\"]]\n",
    "sale_df[\"sale date\"]"
   ]
  },
  {
   "cell_type": "code",
   "execution_count": null,
   "id": "f268d104",
   "metadata": {},
   "outputs": [],
   "source": [
    "sale_df[\"customer id\"] = [i for i in range(1, 645)]\n",
    "sale_df[\"customer id\"]"
   ]
  },
  {
   "cell_type": "code",
   "execution_count": null,
   "id": "5893f886",
   "metadata": {},
   "outputs": [],
   "source": [
    "sale_df[\"vehicle id\"] = [i for i in range(1, 645)]\n",
    "sale_df[\"vehicle id\"]"
   ]
  },
  {
   "cell_type": "code",
   "execution_count": null,
   "id": "114f2548",
   "metadata": {},
   "outputs": [],
   "source": [
    "sale_df.drop(\" \", axis=\"columns\", inplace=True)\n",
    "sale_df"
   ]
  },
  {
   "cell_type": "code",
   "execution_count": null,
   "id": "3dd40116",
   "metadata": {},
   "outputs": [],
   "source": [
    "payment_modes = {\n",
    "    0: \"Cash\",\n",
    "    1: \"Cheque\",\n",
    "    2: \"E-Banking\",\n",
    "    3: \"Cash and Cheque\",\n",
    "    4: \"Cash and E-Banking\",\n",
    "    5: \"Cheque and E-Banking\",\n",
    "    6: \"Cash, Cheque and E-Banking\",\n",
    "}\n",
    "\n",
    "sale_df[\"payment mode\"] = [payment_modes.get(randint(0, 6)) for row in sale_df[\"payment mode\"]]\n",
    "sale_df[\"payment mode\"]"
   ]
  },
  {
   "cell_type": "code",
   "execution_count": null,
   "id": "28d6ae24",
   "metadata": {},
   "outputs": [],
   "source": [
    "sale_df[\"scheme id\"] = [randint(1, 5) for row in sale_df[\"scheme id\"]]\n",
    "sale_df[\"scheme id\"]"
   ]
  },
  {
   "cell_type": "code",
   "execution_count": 8,
   "id": "0fdd9054",
   "metadata": {},
   "outputs": [
    {
     "data": {
      "text/plain": [
       "0      100000.0\n",
       "1           0.0\n",
       "2           0.0\n",
       "3      140000.0\n",
       "4           0.0\n",
       "         ...   \n",
       "639         0.0\n",
       "640         0.0\n",
       "641    140000.0\n",
       "642         0.0\n",
       "643    100000.0\n",
       "Name: finance amount, Length: 644, dtype: float64"
      ]
     },
     "execution_count": 8,
     "metadata": {},
     "output_type": "execute_result"
    }
   ],
   "source": [
    "finance_amounts = {\n",
    "    0: 100000.00,\n",
    "    1: 150000.00,\n",
    "    2: 130000.00,\n",
    "    3: 140000.00,\n",
    "    4: 120000.00,\n",
    "}\n",
    "\n",
    "sale_df[\"finance amount\"] = [finance_amounts.get(randint(0, 10), 0.00) for row in sale_df[\"finance amount\"]]\n",
    "sale_df[\"finance amount\"]"
   ]
  },
  {
   "cell_type": "code",
   "execution_count": 9,
   "id": "8d8acb56",
   "metadata": {},
   "outputs": [
    {
     "data": {
      "text/plain": [
       "0      70000.0\n",
       "1      70000.0\n",
       "2      60000.0\n",
       "3      90000.0\n",
       "4          0.0\n",
       "        ...   \n",
       "639        0.0\n",
       "640    70000.0\n",
       "641        0.0\n",
       "642        0.0\n",
       "643    40000.0\n",
       "Name: exchange amount, Length: 644, dtype: float64"
      ]
     },
     "execution_count": 9,
     "metadata": {},
     "output_type": "execute_result"
    }
   ],
   "source": [
    "exchange_amounts = {\n",
    "    0: 40000.00,\n",
    "    1: 50000.00,\n",
    "    2: 60000.00,\n",
    "    3: 70000.00,\n",
    "    4: 80000.00,\n",
    "    5: 90000.00,\n",
    "    6: 100000.00,\n",
    "    7: 110000.00,\n",
    "}\n",
    "\n",
    "sale_df[\"exchange amount\"] = [exchange_amounts.get(randint(0, 15), 0.00) for row in sale_df[\"finance amount\"]]\n",
    "sale_df[\"exchange amount\"]"
   ]
  },
  {
   "cell_type": "code",
   "execution_count": 11,
   "id": "78498357",
   "metadata": {},
   "outputs": [],
   "source": [
    "sale_df[\"discount\"] = 5000.00\n",
    "sale_df.loc[sale_df[\"scheme id\"] == 5, \"discount\"] = 0.00"
   ]
  },
  {
   "cell_type": "code",
   "execution_count": 18,
   "id": "fdfb3dd9",
   "metadata": {},
   "outputs": [],
   "source": [
    "sale_df[\"amount\"] = purchase_df[\"price\"] + 9000"
   ]
  },
  {
   "cell_type": "code",
   "execution_count": 19,
   "id": "81f3a8ee",
   "metadata": {},
   "outputs": [],
   "source": [
    "sale_df.to_csv(path_or_buf=\"C:\\\\Users\\\\ashis\\\\OneDrive\\\\Desktop\\\\project\\\\sale.csv\", index=False)"
   ]
  },
  {
   "cell_type": "code",
   "execution_count": null,
   "id": "eceef5bc",
   "metadata": {},
   "outputs": [],
   "source": []
  }
 ],
 "metadata": {
  "kernelspec": {
   "display_name": "Python 3 (ipykernel)",
   "language": "python",
   "name": "python3"
  },
  "language_info": {
   "codemirror_mode": {
    "name": "ipython",
    "version": 3
   },
   "file_extension": ".py",
   "mimetype": "text/x-python",
   "name": "python",
   "nbconvert_exporter": "python",
   "pygments_lexer": "ipython3",
   "version": "3.9.7"
  }
 },
 "nbformat": 4,
 "nbformat_minor": 5
}
